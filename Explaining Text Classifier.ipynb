{
 "cells": [
  {
   "cell_type": "markdown",
   "metadata": {},
   "source": [
    "## This notebook is for following along (and modifying and testing) the code as shown in the book \"Blueprints for Text Analytics Using Python\""
   ]
  },
  {
   "cell_type": "markdown",
   "metadata": {},
   "source": [
    "## Chapter 6"
   ]
  },
  {
   "cell_type": "code",
   "execution_count": 1,
   "metadata": {},
   "outputs": [],
   "source": [
    "# Re-running Java example for data\n",
    "import pandas as pd\n",
    "import numpy as np\n",
    "df = pd.read_csv('eclipse_jdt.csv')\n",
    "\n",
    "# Step 1 - data prep\n",
    "df = df[['Title', 'Description', 'Component']]\n",
    "df = df.dropna()\n",
    "df['text'] = df['Title'] + ' ' + df['Description']\n",
    "df = df.drop(columns=['Title', 'Description'])\n",
    "\n",
    "# This is a clean function from Chapter 4. Typing it here to use \n",
    "import html\n",
    "import re\n",
    "\n",
    "def clean(text):\n",
    "    # convert html escapes like &amp; to characters.\n",
    "    text = html.unescape(text) \n",
    "    # tags like <tab>\n",
    "    text = re.sub(r'<[^<>]*>', ' ', text)\n",
    "    # markdown URLs like [Some text](https://....)\n",
    "    text = re.sub(r'\\[([^\\[\\]]*)\\]\\([^\\(\\)]*\\)', r'\\1', text)\n",
    "    # text or code in brackets like [0]\n",
    "    text = re.sub(r'\\[[^\\[\\]]*\\]', ' ', text)\n",
    "    # standalone sequences of specials, matches &# but not #cool\n",
    "    text = re.sub(r'(?:^|\\s)[&#<>{}\\[\\]+|\\\\:-]{1,}(?:\\s|$)', ' ', text)\n",
    "    # standalone sequences of hyphens like --- or ==\n",
    "    text = re.sub(r'(?:^|\\s)[\\-=\\+]{2,}(?:\\s|$)', ' ', text)\n",
    "    # sequences of white spaces\n",
    "    text = re.sub(r'\\s+', ' ', text)\n",
    "    return text.strip()\n",
    "\n",
    "df['text'] = df['text'].apply(clean)\n",
    "df = df[df['text'].str.len() > 50]\n",
    "\n",
    "\n",
    "df = df.groupby('Component', as_index=False).apply(pd.DataFrame.sample,random_state=21,frac=.2)"
   ]
  },
  {
   "cell_type": "code",
   "execution_count": 2,
   "metadata": {},
   "outputs": [
    {
     "name": "stdout",
     "output_type": "stream",
     "text": [
      "Size of Training Data, Test Data 7208 1803\n"
     ]
    }
   ],
   "source": [
    "from sklearn.model_selection import train_test_split\n",
    "\n",
    "X_train, X_test, y_train, y_test = train_test_split(df['text'], df['Component'], test_size=0.2,\n",
    "                                                   random_state=42, stratify=df['Component'])\n",
    "print('Size of Training Data, Test Data', X_train.shape[0], X_test.shape[0])"
   ]
  },
  {
   "cell_type": "code",
   "execution_count": 3,
   "metadata": {},
   "outputs": [],
   "source": [
    "from sklearn.feature_extraction.text import TfidfVectorizer\n",
    "\n",
    "tfidf = TfidfVectorizer(min_df=10, ngram_range=(1,2), stop_words='english')\n",
    "X_train_tf = tfidf.fit_transform(X_train)"
   ]
  },
  {
   "cell_type": "code",
   "execution_count": 4,
   "metadata": {},
   "outputs": [
    {
     "data": {
      "text/plain": [
       "SVC(C=1, kernel='linear', probability=True, random_state=42)"
      ]
     },
     "execution_count": 4,
     "metadata": {},
     "output_type": "execute_result"
    }
   ],
   "source": [
    "from sklearn.svm import SVC\n",
    "svc = SVC(kernel=\"linear\", C=1, probability=True, random_state=42)\n",
    "svc.fit(X_train_tf, y_train)"
   ]
  },
  {
   "cell_type": "code",
   "execution_count": 5,
   "metadata": {},
   "outputs": [],
   "source": [
    "X_test_tf = tfidf.transform(X_test)\n",
    "y_pred = svc.predict(X_test_tf)\n",
    "result = pd.DataFrame({ 'text': X_test.values, 'actual': y_test.values, 'predicted': y_pred})"
   ]
  },
  {
   "cell_type": "code",
   "execution_count": 19,
   "metadata": {},
   "outputs": [
    {
     "name": "stderr",
     "output_type": "stream",
     "text": [
      "<ipython-input-19-6d2e72029f05>:1: UserWarning: Boolean Series key will be reindexed to match DataFrame index.\n",
      "  result[result[\"actual\"] != result[\"predicted\"]][result[\"text\"].str.contains(\"left\")]\n"
     ]
    },
    {
     "data": {
      "text/html": [
       "<div>\n",
       "<style scoped>\n",
       "    .dataframe tbody tr th:only-of-type {\n",
       "        vertical-align: middle;\n",
       "    }\n",
       "\n",
       "    .dataframe tbody tr th {\n",
       "        vertical-align: top;\n",
       "    }\n",
       "\n",
       "    .dataframe thead th {\n",
       "        text-align: right;\n",
       "    }\n",
       "</style>\n",
       "<table border=\"1\" class=\"dataframe\">\n",
       "  <thead>\n",
       "    <tr style=\"text-align: right;\">\n",
       "      <th></th>\n",
       "      <th>text</th>\n",
       "      <th>actual</th>\n",
       "      <th>predicted</th>\n",
       "    </tr>\n",
       "  </thead>\n",
       "  <tbody>\n",
       "    <tr>\n",
       "      <th>201</th>\n",
       "      <td>bracket highlighting should also work if caret...</td>\n",
       "      <td>Text</td>\n",
       "      <td>UI</td>\n",
       "    </tr>\n",
       "    <tr>\n",
       "      <th>287</th>\n",
       "      <td>No content assist between left paren and strin...</td>\n",
       "      <td>UI</td>\n",
       "      <td>Text</td>\n",
       "    </tr>\n",
       "    <tr>\n",
       "      <th>321</th>\n",
       "      <td>one cant navigate into an interface method wit...</td>\n",
       "      <td>Core</td>\n",
       "      <td>UI</td>\n",
       "    </tr>\n",
       "    <tr>\n",
       "      <th>678</th>\n",
       "      <td>gotoMarker does not set source range and does ...</td>\n",
       "      <td>Text</td>\n",
       "      <td>UI</td>\n",
       "    </tr>\n",
       "    <tr>\n",
       "      <th>715</th>\n",
       "      <td>Pasting converts tab to spaces Just a minor fl...</td>\n",
       "      <td>UI</td>\n",
       "      <td>Text</td>\n",
       "    </tr>\n",
       "    <tr>\n",
       "      <th>734</th>\n",
       "      <td>MalformedTreeException when formatting edited ...</td>\n",
       "      <td>Core</td>\n",
       "      <td>UI</td>\n",
       "    </tr>\n",
       "    <tr>\n",
       "      <th>828</th>\n",
       "      <td>Double-click to set a breakpoing results in th...</td>\n",
       "      <td>Debug</td>\n",
       "      <td>Text</td>\n",
       "    </tr>\n",
       "    <tr>\n",
       "      <th>1113</th>\n",
       "      <td>Zombie targets left by CommandArgumentTests Ru...</td>\n",
       "      <td>Debug</td>\n",
       "      <td>UI</td>\n",
       "    </tr>\n",
       "    <tr>\n",
       "      <th>1149</th>\n",
       "      <td>IndexOutOfBoundException on code complete 3.3M...</td>\n",
       "      <td>Text</td>\n",
       "      <td>UI</td>\n",
       "    </tr>\n",
       "    <tr>\n",
       "      <th>1267</th>\n",
       "      <td>Code-assist doesnt properly indent when overri...</td>\n",
       "      <td>UI</td>\n",
       "      <td>Text</td>\n",
       "    </tr>\n",
       "    <tr>\n",
       "      <th>1437</th>\n",
       "      <td>fake overridden method and search references C...</td>\n",
       "      <td>Core</td>\n",
       "      <td>UI</td>\n",
       "    </tr>\n",
       "    <tr>\n",
       "      <th>1498</th>\n",
       "      <td>bad scenario for automagic brace insertion 200...</td>\n",
       "      <td>Text</td>\n",
       "      <td>Core</td>\n",
       "    </tr>\n",
       "    <tr>\n",
       "      <th>1586</th>\n",
       "      <td>Unindent selected element in outliner It would...</td>\n",
       "      <td>Text</td>\n",
       "      <td>UI</td>\n",
       "    </tr>\n",
       "    <tr>\n",
       "      <th>1720</th>\n",
       "      <td>Rework context menu code I cant get the breakp...</td>\n",
       "      <td>Text</td>\n",
       "      <td>Debug</td>\n",
       "    </tr>\n",
       "  </tbody>\n",
       "</table>\n",
       "</div>"
      ],
      "text/plain": [
       "                                                   text actual predicted\n",
       "201   bracket highlighting should also work if caret...   Text        UI\n",
       "287   No content assist between left paren and strin...     UI      Text\n",
       "321   one cant navigate into an interface method wit...   Core        UI\n",
       "678   gotoMarker does not set source range and does ...   Text        UI\n",
       "715   Pasting converts tab to spaces Just a minor fl...     UI      Text\n",
       "734   MalformedTreeException when formatting edited ...   Core        UI\n",
       "828   Double-click to set a breakpoing results in th...  Debug      Text\n",
       "1113  Zombie targets left by CommandArgumentTests Ru...  Debug        UI\n",
       "1149  IndexOutOfBoundException on code complete 3.3M...   Text        UI\n",
       "1267  Code-assist doesnt properly indent when overri...     UI      Text\n",
       "1437  fake overridden method and search references C...   Core        UI\n",
       "1498  bad scenario for automagic brace insertion 200...   Text      Core\n",
       "1586  Unindent selected element in outliner It would...   Text        UI\n",
       "1720  Rework context menu code I cant get the breakp...   Text     Debug"
      ]
     },
     "execution_count": 19,
     "metadata": {},
     "output_type": "execute_result"
    }
   ],
   "source": [
    "result[result[\"actual\"] != result[\"predicted\"]][result[\"text\"].str.contains(\"left\")]"
   ]
  },
  {
   "cell_type": "code",
   "execution_count": 20,
   "metadata": {},
   "outputs": [
    {
     "name": "stdout",
     "output_type": "stream",
     "text": [
      "No content assist between left paren and string literal Build 20020307; ; 1. Create the following cu:; public class A {; void foo(String s) {; }; void bar() {; this.foo();; }; }; 2. Position the cursor as indicated below:; this.foo( );; 3. Crtl-Space; ; You only get a beep.; ; If you remove the string literal; i.e.; this.foo( );; then you get a proposal.\n"
     ]
    }
   ],
   "source": [
    "text = result.iloc[287][\"text\"]\n",
    "print(text)"
   ]
  },
  {
   "cell_type": "code",
   "execution_count": 28,
   "metadata": {},
   "outputs": [
    {
     "name": "stdout",
     "output_type": "stream",
     "text": [
      "[[0.00251425 0.31384306 0.00241781 0.00082898 0.59485614 0.08553977]]\n"
     ]
    }
   ],
   "source": [
    "print(svc.predict_proba(X_test_tf[287]))"
   ]
  },
  {
   "cell_type": "code",
   "execution_count": 32,
   "metadata": {},
   "outputs": [],
   "source": [
    "class_names = [\"APT\", \"Core\", \"Debug\", \"Doc\", \"Text\", \"UI\"]\n",
    "prob = svc.predict_proba(X_test_tf)\n",
    "# new dataframe for explainable results\n",
    "er = result.copy().reset_index()"
   ]
  },
  {
   "cell_type": "code",
   "execution_count": 38,
   "metadata": {},
   "outputs": [],
   "source": [
    "for c,i in enumerate(class_names):\n",
    "    er[i] = prob[:,c]"
   ]
  },
  {
   "cell_type": "code",
   "execution_count": 39,
   "metadata": {},
   "outputs": [
    {
     "data": {
      "text/html": [
       "<div>\n",
       "<style scoped>\n",
       "    .dataframe tbody tr th:only-of-type {\n",
       "        vertical-align: middle;\n",
       "    }\n",
       "\n",
       "    .dataframe tbody tr th {\n",
       "        vertical-align: top;\n",
       "    }\n",
       "\n",
       "    .dataframe thead th {\n",
       "        text-align: right;\n",
       "    }\n",
       "</style>\n",
       "<table border=\"1\" class=\"dataframe\">\n",
       "  <thead>\n",
       "    <tr style=\"text-align: right;\">\n",
       "      <th></th>\n",
       "      <th>actual</th>\n",
       "      <th>predicted</th>\n",
       "      <th>APT</th>\n",
       "      <th>Core</th>\n",
       "      <th>Debug</th>\n",
       "      <th>Doc</th>\n",
       "      <th>Text</th>\n",
       "      <th>UI</th>\n",
       "    </tr>\n",
       "  </thead>\n",
       "  <tbody>\n",
       "    <tr>\n",
       "      <th>1064</th>\n",
       "      <td>Core</td>\n",
       "      <td>Core</td>\n",
       "      <td>0.000485</td>\n",
       "      <td>0.981760</td>\n",
       "      <td>0.000663</td>\n",
       "      <td>0.000493</td>\n",
       "      <td>0.003891</td>\n",
       "      <td>0.012708</td>\n",
       "    </tr>\n",
       "    <tr>\n",
       "      <th>1317</th>\n",
       "      <td>Core</td>\n",
       "      <td>Text</td>\n",
       "      <td>0.002533</td>\n",
       "      <td>0.222902</td>\n",
       "      <td>0.013490</td>\n",
       "      <td>0.001237</td>\n",
       "      <td>0.635865</td>\n",
       "      <td>0.123973</td>\n",
       "    </tr>\n",
       "    <tr>\n",
       "      <th>1246</th>\n",
       "      <td>Core</td>\n",
       "      <td>Core</td>\n",
       "      <td>0.006046</td>\n",
       "      <td>0.696135</td>\n",
       "      <td>0.041910</td>\n",
       "      <td>0.004596</td>\n",
       "      <td>0.024863</td>\n",
       "      <td>0.226450</td>\n",
       "    </tr>\n",
       "    <tr>\n",
       "      <th>163</th>\n",
       "      <td>UI</td>\n",
       "      <td>UI</td>\n",
       "      <td>0.005840</td>\n",
       "      <td>0.165487</td>\n",
       "      <td>0.119905</td>\n",
       "      <td>0.003579</td>\n",
       "      <td>0.151754</td>\n",
       "      <td>0.553435</td>\n",
       "    </tr>\n",
       "    <tr>\n",
       "      <th>1089</th>\n",
       "      <td>Core</td>\n",
       "      <td>Core</td>\n",
       "      <td>0.001534</td>\n",
       "      <td>0.917918</td>\n",
       "      <td>0.021709</td>\n",
       "      <td>0.000619</td>\n",
       "      <td>0.009508</td>\n",
       "      <td>0.048712</td>\n",
       "    </tr>\n",
       "  </tbody>\n",
       "</table>\n",
       "</div>"
      ],
      "text/plain": [
       "     actual predicted       APT      Core     Debug       Doc      Text  \\\n",
       "1064   Core      Core  0.000485  0.981760  0.000663  0.000493  0.003891   \n",
       "1317   Core      Text  0.002533  0.222902  0.013490  0.001237  0.635865   \n",
       "1246   Core      Core  0.006046  0.696135  0.041910  0.004596  0.024863   \n",
       "163      UI        UI  0.005840  0.165487  0.119905  0.003579  0.151754   \n",
       "1089   Core      Core  0.001534  0.917918  0.021709  0.000619  0.009508   \n",
       "\n",
       "            UI  \n",
       "1064  0.012708  \n",
       "1317  0.123973  \n",
       "1246  0.226450  \n",
       "163   0.553435  \n",
       "1089  0.048712  "
      ]
     },
     "execution_count": 39,
     "metadata": {},
     "output_type": "execute_result"
    }
   ],
   "source": [
    "er[[\"actual\", \"predicted\"] + class_names].sample(5, random_state=99)"
   ]
  },
  {
   "cell_type": "code",
   "execution_count": null,
   "metadata": {},
   "outputs": [],
   "source": []
  }
 ],
 "metadata": {
  "kernelspec": {
   "display_name": "Python 3",
   "language": "python",
   "name": "python3"
  },
  "language_info": {
   "codemirror_mode": {
    "name": "ipython",
    "version": 3
   },
   "file_extension": ".py",
   "mimetype": "text/x-python",
   "name": "python",
   "nbconvert_exporter": "python",
   "pygments_lexer": "ipython3",
   "version": "3.8.5"
  }
 },
 "nbformat": 4,
 "nbformat_minor": 4
}
