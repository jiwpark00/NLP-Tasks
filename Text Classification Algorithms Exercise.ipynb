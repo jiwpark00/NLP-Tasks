{
 "cells": [
  {
   "cell_type": "markdown",
   "metadata": {},
   "source": [
    "## This notebook is for following along (and modifying and testing) the code as shown in the book \"Blueprints for Text Analytics Using Python\""
   ]
  },
  {
   "cell_type": "markdown",
   "metadata": {},
   "source": [
    "## Chapter 6"
   ]
  },
  {
   "cell_type": "code",
   "execution_count": 2,
   "metadata": {},
   "outputs": [
    {
     "name": "stdout",
     "output_type": "stream",
     "text": [
      "Index(['Issue_id', 'Priority', 'Component', 'Duplicated_issue', 'Title',\n",
      "       'Description', 'Status', 'Resolution', 'Version', 'Created_time',\n",
      "       'Resolved_time'],\n",
      "      dtype='object')\n"
     ]
    }
   ],
   "source": [
    "# Data available here - https://github.com/logpai/bugrepo/tree/master/JDT\n",
    "import pandas as pd\n",
    "import numpy as np\n",
    "df = pd.read_csv('eclipse_jdt.csv')\n",
    "print(df.columns)"
   ]
  },
  {
   "cell_type": "code",
   "execution_count": 3,
   "metadata": {},
   "outputs": [
    {
     "data": {
      "text/html": [
       "<div>\n",
       "<style scoped>\n",
       "    .dataframe tbody tr th:only-of-type {\n",
       "        vertical-align: middle;\n",
       "    }\n",
       "\n",
       "    .dataframe tbody tr th {\n",
       "        vertical-align: top;\n",
       "    }\n",
       "\n",
       "    .dataframe thead th {\n",
       "        text-align: right;\n",
       "    }\n",
       "</style>\n",
       "<table border=\"1\" class=\"dataframe\">\n",
       "  <thead>\n",
       "    <tr style=\"text-align: right;\">\n",
       "      <th></th>\n",
       "      <th>Issue_id</th>\n",
       "      <th>Priority</th>\n",
       "      <th>Component</th>\n",
       "      <th>Title</th>\n",
       "      <th>Description</th>\n",
       "    </tr>\n",
       "  </thead>\n",
       "  <tbody>\n",
       "    <tr>\n",
       "      <th>6753</th>\n",
       "      <td>18319</td>\n",
       "      <td>P3</td>\n",
       "      <td>Debug</td>\n",
       "      <td>Elusive Ellipsis</td>\n",
       "      <td>o  trivial point: the Run As label shouldnt ha...</td>\n",
       "    </tr>\n",
       "    <tr>\n",
       "      <th>6358</th>\n",
       "      <td>17104</td>\n",
       "      <td>P3</td>\n",
       "      <td>Core</td>\n",
       "      <td>Compiler does not complain but Quick Fix ??? c...</td>\n",
       "      <td>Import the classes below and you will see that...</td>\n",
       "    </tr>\n",
       "  </tbody>\n",
       "</table>\n",
       "</div>"
      ],
      "text/plain": [
       "      Issue_id Priority Component  \\\n",
       "6753     18319       P3     Debug   \n",
       "6358     17104       P3      Core   \n",
       "\n",
       "                                                  Title  \\\n",
       "6753                                   Elusive Ellipsis   \n",
       "6358  Compiler does not complain but Quick Fix ??? c...   \n",
       "\n",
       "                                            Description  \n",
       "6753  o  trivial point: the Run As label shouldnt ha...  \n",
       "6358  Import the classes below and you will see that...  "
      ]
     },
     "execution_count": 3,
     "metadata": {},
     "output_type": "execute_result"
    }
   ],
   "source": [
    "df[['Issue_id', 'Priority', 'Component', 'Title', 'Description']].sample(2)"
   ]
  },
  {
   "cell_type": "code",
   "execution_count": 4,
   "metadata": {},
   "outputs": [
    {
     "data": {
      "text/plain": [
       "(45296, 11)"
      ]
     },
     "execution_count": 4,
     "metadata": {},
     "output_type": "execute_result"
    }
   ],
   "source": [
    "df.shape"
   ]
  },
  {
   "cell_type": "code",
   "execution_count": 5,
   "metadata": {},
   "outputs": [
    {
     "data": {
      "text/html": [
       "<div>\n",
       "<style scoped>\n",
       "    .dataframe tbody tr th:only-of-type {\n",
       "        vertical-align: middle;\n",
       "    }\n",
       "\n",
       "    .dataframe tbody tr th {\n",
       "        vertical-align: top;\n",
       "    }\n",
       "\n",
       "    .dataframe thead th {\n",
       "        text-align: right;\n",
       "    }\n",
       "</style>\n",
       "<table border=\"1\" class=\"dataframe\">\n",
       "  <thead>\n",
       "    <tr style=\"text-align: right;\">\n",
       "      <th></th>\n",
       "      <th>11675</th>\n",
       "    </tr>\n",
       "  </thead>\n",
       "  <tbody>\n",
       "    <tr>\n",
       "      <th>Issue_id</th>\n",
       "      <td>32738</td>\n",
       "    </tr>\n",
       "    <tr>\n",
       "      <th>Priority</th>\n",
       "      <td>P3</td>\n",
       "    </tr>\n",
       "    <tr>\n",
       "      <th>Component</th>\n",
       "      <td>Core</td>\n",
       "    </tr>\n",
       "    <tr>\n",
       "      <th>Duplicated_issue</th>\n",
       "      <td>NaN</td>\n",
       "    </tr>\n",
       "    <tr>\n",
       "      <th>Title</th>\n",
       "      <td>TVT: Externalized Strings to be removed from ....</td>\n",
       "    </tr>\n",
       "    <tr>\n",
       "      <th>Description</th>\n",
       "      <td>Steps:; 1. open java perspective; 2. create a ...</td>\n",
       "    </tr>\n",
       "    <tr>\n",
       "      <th>Status</th>\n",
       "      <td>RESOLVED</td>\n",
       "    </tr>\n",
       "    <tr>\n",
       "      <th>Resolution</th>\n",
       "      <td>WORKSFORME</td>\n",
       "    </tr>\n",
       "    <tr>\n",
       "      <th>Version</th>\n",
       "      <td>2.1</td>\n",
       "    </tr>\n",
       "    <tr>\n",
       "      <th>Created_time</th>\n",
       "      <td>2003-02-24 13:20:00 -0500</td>\n",
       "    </tr>\n",
       "    <tr>\n",
       "      <th>Resolved_time</th>\n",
       "      <td>2003-02-27 06:02:55 -0500</td>\n",
       "    </tr>\n",
       "  </tbody>\n",
       "</table>\n",
       "</div>"
      ],
      "text/plain": [
       "                                                              11675\n",
       "Issue_id                                                      32738\n",
       "Priority                                                         P3\n",
       "Component                                                      Core\n",
       "Duplicated_issue                                                NaN\n",
       "Title             TVT: Externalized Strings to be removed from ....\n",
       "Description       Steps:; 1. open java perspective; 2. create a ...\n",
       "Status                                                     RESOLVED\n",
       "Resolution                                               WORKSFORME\n",
       "Version                                                         2.1\n",
       "Created_time                              2003-02-24 13:20:00 -0500\n",
       "Resolved_time                             2003-02-27 06:02:55 -0500"
      ]
     },
     "execution_count": 5,
     "metadata": {},
     "output_type": "execute_result"
    }
   ],
   "source": [
    "df.sample(1).T"
   ]
  },
  {
   "cell_type": "code",
   "execution_count": 6,
   "metadata": {},
   "outputs": [
    {
     "data": {
      "text/plain": [
       "<AxesSubplot:>"
      ]
     },
     "execution_count": 6,
     "metadata": {},
     "output_type": "execute_result"
    },
    {
     "data": {
      "image/png": "[encoded data removed]",
      "text/plain": [
       "<Figure size 432x288 with 1 Axes>"
      ]
     },
     "metadata": {
      "needs_background": "light"
     },
     "output_type": "display_data"
    }
   ],
   "source": [
    "df['Priority'].value_counts().sort_index().plot(kind='bar')"
   ]
  },
  {
   "cell_type": "code",
   "execution_count": 7,
   "metadata": {},
   "outputs": [
    {
     "data": {
      "text/plain": [
       "UI       17479\n",
       "Core     13669\n",
       "Debug     7542\n",
       "Text      5901\n",
       "APT        406\n",
       "Doc        299\n",
       "Name: Component, dtype: int64"
      ]
     },
     "execution_count": 7,
     "metadata": {},
     "output_type": "execute_result"
    }
   ],
   "source": [
    "df['Component'].value_counts()"
   ]
  },
  {
   "cell_type": "code",
   "execution_count": 8,
   "metadata": {},
   "outputs": [
    {
     "data": {
      "text/plain": [
       "Index(['Priority', 'text'], dtype='object')"
      ]
     },
     "execution_count": 8,
     "metadata": {},
     "output_type": "execute_result"
    }
   ],
   "source": [
    "# Step 1 - data prep\n",
    "df = df[['Title', 'Description', 'Priority']]\n",
    "df = df.dropna()\n",
    "df['text'] = df['Title'] + ' ' + df['Description']\n",
    "df = df.drop(columns=['Title', 'Description'])\n",
    "df.columns"
   ]
  },
  {
   "cell_type": "code",
   "execution_count": 12,
   "metadata": {},
   "outputs": [],
   "source": [
    "# This is a clean function from Chapter 4. Typing it here to use \n",
    "import html\n",
    "import re\n",
    "\n",
    "def clean(text):\n",
    "    # convert html escapes like &amp; to characters.\n",
    "    text = html.unescape(text) \n",
    "    # tags like <tab>\n",
    "    text = re.sub(r'<[^<>]*>', ' ', text)\n",
    "    # markdown URLs like [Some text](https://....)\n",
    "    text = re.sub(r'\\[([^\\[\\]]*)\\]\\([^\\(\\)]*\\)', r'\\1', text)\n",
    "    # text or code in brackets like [0]\n",
    "    text = re.sub(r'\\[[^\\[\\]]*\\]', ' ', text)\n",
    "    # standalone sequences of specials, matches &# but not #cool\n",
    "    text = re.sub(r'(?:^|\\s)[&#<>{}\\[\\]+|\\\\:-]{1,}(?:\\s|$)', ' ', text)\n",
    "    # standalone sequences of hyphens like --- or ==\n",
    "    text = re.sub(r'(?:^|\\s)[\\-=\\+]{2,}(?:\\s|$)', ' ', text)\n",
    "    # sequences of white spaces\n",
    "    text = re.sub(r'\\s+', ' ', text)\n",
    "    return text.strip()"
   ]
  },
  {
   "cell_type": "code",
   "execution_count": 15,
   "metadata": {},
   "outputs": [],
   "source": [
    "df['text'] = df['text'].apply(clean)\n",
    "df = df[df['text'].str.len() > 50]"
   ]
  },
  {
   "cell_type": "code",
   "execution_count": 17,
   "metadata": {},
   "outputs": [
    {
     "data": {
      "text/html": [
       "<div>\n",
       "<style scoped>\n",
       "    .dataframe tbody tr th:only-of-type {\n",
       "        vertical-align: middle;\n",
       "    }\n",
       "\n",
       "    .dataframe tbody tr th {\n",
       "        vertical-align: top;\n",
       "    }\n",
       "\n",
       "    .dataframe thead th {\n",
       "        text-align: right;\n",
       "    }\n",
       "</style>\n",
       "<table border=\"1\" class=\"dataframe\">\n",
       "  <thead>\n",
       "    <tr style=\"text-align: right;\">\n",
       "      <th></th>\n",
       "      <th>Priority</th>\n",
       "      <th>text</th>\n",
       "    </tr>\n",
       "  </thead>\n",
       "  <tbody>\n",
       "    <tr>\n",
       "      <th>4329</th>\n",
       "      <td>P3</td>\n",
       "      <td>Progress bar gets cleared during project creation IMPORTANT: Start a new empty workspace; Start to create a Java project; Enter JUnit as name; Press Finish; ==&gt; Progress bar goes to right; then gets cleared and user has to wait without; knowing whats going to happen.</td>\n",
       "    </tr>\n",
       "    <tr>\n",
       "      <th>5230</th>\n",
       "      <td>P3</td>\n",
       "      <td>Java Model not updated properly Win32 0412 Integration; ; I am not sure how to describe the various problems I am now seeing since I ; have seen a variety of problems. However; they all seem to have a common ; theme. The underlying Java Model for a given class is not being updated ; properly as new methods are added or methods are changed.; ; The two examples that I am consistently running across now are:; 1) Search for a given method; and double click in the Task window to bring up ; the java source. Add a new method to the file. I noticed that the Outline ; view nor the Type Hierarchy were updated with the new method. The subclasses ; which did not implement the abstract method were not flagged with errors.; ; 2) Modified a method signature by adding a new parameter. I received two ; errors in my task where classes were using the API. The first one was changed ; without a problem. However the second one; when I try to use Context Assist; ; the method is showing 2 parameters instead of 3; and the new API added above ; does not appear as an option. After closing the window with the added ; parameter; the Context Assist is showing 3 parameters but the new method is ; not appearing as a valid choice. ; ; Its almost like there are multiple working copies and what I see is the wrong ; one. So when I close the window and re-open the file; everything is ok.</td>\n",
       "    </tr>\n",
       "  </tbody>\n",
       "</table>\n",
       "</div>"
      ],
      "text/plain": [
       "     Priority  \\\n",
       "4329       P3   \n",
       "5230       P3   \n",
       "\n",
       "                                                                                                                                                                                                                                                                                                                                                                                                                                                                                                                                                                                                                                                                                                                                                                                                                                                                                                                                                                                                                                                                                                                                                                                                                                                                                                                                                                                                                               text  \n",
       "4329                                                                                                                                                                                                                                                                                                                                                                                                                                                                                                                                                                                                                                                                                                                                                                                                                                                                                                                                                                                                                                                                                                                                                    Progress bar gets cleared during project creation IMPORTANT: Start a new empty workspace; Start to create a Java project; Enter JUnit as name; Press Finish; ==> Progress bar goes to right; then gets cleared and user has to wait without; knowing whats going to happen.  \n",
       "5230  Java Model not updated properly Win32 0412 Integration; ; I am not sure how to describe the various problems I am now seeing since I ; have seen a variety of problems. However; they all seem to have a common ; theme. The underlying Java Model for a given class is not being updated ; properly as new methods are added or methods are changed.; ; The two examples that I am consistently running across now are:; 1) Search for a given method; and double click in the Task window to bring up ; the java source. Add a new method to the file. I noticed that the Outline ; view nor the Type Hierarchy were updated with the new method. The subclasses ; which did not implement the abstract method were not flagged with errors.; ; 2) Modified a method signature by adding a new parameter. I received two ; errors in my task where classes were using the API. The first one was changed ; without a problem. However the second one; when I try to use Context Assist; ; the method is showing 2 parameters instead of 3; and the new API added above ; does not appear as an option. After closing the window with the added ; parameter; the Context Assist is showing 3 parameters but the new method is ; not appearing as a valid choice. ; ; Its almost like there are multiple working copies and what I see is the wrong ; one. So when I close the window and re-open the file; everything is ok.  "
      ]
     },
     "metadata": {},
     "output_type": "display_data"
    }
   ],
   "source": [
    "with pd.option_context('display.max_colwidth', None):\n",
    "    display(df.sample(2))"
   ]
  },
  {
   "cell_type": "code",
   "execution_count": 19,
   "metadata": {},
   "outputs": [
    {
     "name": "stdout",
     "output_type": "stream",
     "text": [
      "Size of Training_Data  36040\n",
      "Size of Test Data  9011\n"
     ]
    }
   ],
   "source": [
    "# Step 2 - train/test split\n",
    "\n",
    "from sklearn.model_selection import train_test_split\n",
    "\n",
    "X_train, X_test, y_train, y_test = train_test_split(df['text'], df['Priority'], test_size=0.2, random_state=42, stratify=df['Priority'])\n",
    "\n",
    "print('Size of Training_Data ', X_train.shape[0])\n",
    "print('Size of Test Data ', X_test.shape[0])"
   ]
  },
  {
   "cell_type": "code",
   "execution_count": 20,
   "metadata": {},
   "outputs": [
    {
     "data": {
      "text/plain": [
       "31250    Add named sets of exclusion filters to breakpo...\n",
       "17275    Multiple watch (expressions) views When debugg...\n",
       "24607    project specific settings ignored If one enabl...\n",
       "11682    Java application launch shortcut error doesnt ...\n",
       "27101    Exception signature mismatch with multiply-inh...\n",
       "Name: text, dtype: object"
      ]
     },
     "execution_count": 20,
     "metadata": {},
     "output_type": "execute_result"
    }
   ],
   "source": [
    "# Step 3 - training the ML model\n",
    "X_train.head()"
   ]
  },
  {
   "cell_type": "code",
   "execution_count": 24,
   "metadata": {},
   "outputs": [],
   "source": [
    "from sklearn.feature_extraction.text import TfidfVectorizer\n",
    "tfidf = TfidfVectorizer(min_df = 10, ngram_range=(1,2), stop_words=\"english\")"
   ]
  },
  {
   "cell_type": "code",
   "execution_count": 25,
   "metadata": {},
   "outputs": [],
   "source": [
    "X_train_tf = tfidf.fit_transform(X_train)"
   ]
  },
  {
   "cell_type": "code",
   "execution_count": 26,
   "metadata": {},
   "outputs": [
    {
     "data": {
      "text/plain": [
       "LinearSVC(random_state=0, tol=1e-05)"
      ]
     },
     "execution_count": 26,
     "metadata": {},
     "output_type": "execute_result"
    }
   ],
   "source": [
    "from sklearn.svm import LinearSVC\n",
    "model1 = LinearSVC(random_state=0, tol=1e-5)\n",
    "model1.fit(X_train_tf, y_train)"
   ]
  },
  {
   "cell_type": "code",
   "execution_count": 27,
   "metadata": {},
   "outputs": [],
   "source": [
    "# Step 4 - model evaluation\n",
    "X_test_tf = tfidf.transform(X_test)\n",
    "\n",
    "y_pred = model1.predict(X_test_tf)"
   ]
  },
  {
   "cell_type": "code",
   "execution_count": 29,
   "metadata": {},
   "outputs": [
    {
     "name": "stdout",
     "output_type": "stream",
     "text": [
      "Accuracy Score -  0.8759294195982688\n"
     ]
    }
   ],
   "source": [
    "from sklearn.metrics import accuracy_score\n",
    "print('Accuracy Score - ', accuracy_score(y_test, y_pred))"
   ]
  },
  {
   "cell_type": "code",
   "execution_count": 31,
   "metadata": {},
   "outputs": [
    {
     "name": "stdout",
     "output_type": "stream",
     "text": [
      "Accuracy Score -  0.8769281988680502\n"
     ]
    }
   ],
   "source": [
    "# compare with a dummy classifier\n",
    "from sklearn.dummy import DummyClassifier\n",
    "clf = DummyClassifier(strategy='most_frequent')\n",
    "clf.fit(X_train, y_train)\n",
    "y_pred_baseline = clf.predict(X_test)\n",
    "print('Accuracy Score - ', accuracy_score(y_test, y_pred_baseline))"
   ]
  },
  {
   "cell_type": "code",
   "execution_count": 32,
   "metadata": {},
   "outputs": [
    {
     "data": {
      "text/plain": [
       "array([[  20,    1,  198,    4,    0],\n",
       "       [   6,   18,  576,    8,    0],\n",
       "       [   8,   51, 7824,   19,    0],\n",
       "       [   0,    5,  192,   31,    0],\n",
       "       [   0,    0,   50,    0,    0]])"
      ]
     },
     "execution_count": 32,
     "metadata": {},
     "output_type": "execute_result"
    }
   ],
   "source": [
    "from sklearn.metrics import confusion_matrix\n",
    "y_pred = model1.predict(X_test_tf)\n",
    "confusion_matrix(y_test, y_pred)"
   ]
  },
  {
   "cell_type": "code",
   "execution_count": 36,
   "metadata": {},
   "outputs": [
    {
     "data": {
      "text/plain": [
       "<sklearn.metrics._plot.confusion_matrix.ConfusionMatrixDisplay at 0x7fab95b6d9d0>"
      ]
     },
     "execution_count": 36,
     "metadata": {},
     "output_type": "execute_result"
    },
    {
     "data": {
      "image/png": "[encoded data removed]",
      "text/plain": [
       "<Figure size 432x288 with 2 Axes>"
      ]
     },
     "metadata": {
      "needs_background": "light"
     },
     "output_type": "display_data"
    }
   ],
   "source": [
    "# better to visualize via plot\n",
    "from sklearn.metrics import plot_confusion_matrix\n",
    "import matplotlib.pyplot as plt\n",
    "plot_confusion_matrix(model1,X_test_tf, y_test, values_format='d',cmap=plt.cm.Blues)"
   ]
  },
  {
   "cell_type": "code",
   "execution_count": 39,
   "metadata": {},
   "outputs": [
    {
     "data": {
      "text/plain": [
       "0.8850678733031674"
      ]
     },
     "execution_count": 39,
     "metadata": {},
     "output_type": "execute_result"
    }
   ],
   "source": [
    "# Precision for P3\n",
    "7824/(198.0+576+7824+192+50)"
   ]
  },
  {
   "cell_type": "code",
   "execution_count": 41,
   "metadata": {},
   "outputs": [
    {
     "data": {
      "text/plain": [
       "0.9901290812452543"
      ]
     },
     "execution_count": 41,
     "metadata": {},
     "output_type": "execute_result"
    }
   ],
   "source": [
    "# Recall for P3\n",
    "7824/(8.0+51+7824+19+0)"
   ]
  },
  {
   "cell_type": "code",
   "execution_count": 42,
   "metadata": {},
   "outputs": [
    {
     "name": "stdout",
     "output_type": "stream",
     "text": [
      "              precision    recall  f1-score   support\n",
      "\n",
      "          P1       0.59      0.09      0.16       223\n",
      "          P2       0.24      0.03      0.05       608\n",
      "          P3       0.89      0.99      0.93      7902\n",
      "          P4       0.50      0.14      0.21       228\n",
      "          P5       0.00      0.00      0.00        50\n",
      "\n",
      "    accuracy                           0.88      9011\n",
      "   macro avg       0.44      0.25      0.27      9011\n",
      "weighted avg       0.82      0.88      0.83      9011\n",
      "\n"
     ]
    },
    {
     "name": "stderr",
     "output_type": "stream",
     "text": [
      "/opt/anaconda3/lib/python3.8/site-packages/sklearn/metrics/_classification.py:1221: UndefinedMetricWarning: Precision and F-score are ill-defined and being set to 0.0 in labels with no predicted samples. Use `zero_division` parameter to control this behavior.\n",
      "  _warn_prf(average, modifier, msg_start, len(result))\n"
     ]
    }
   ],
   "source": [
    "# automated way using classification_report function\n",
    "from sklearn.metrics import classification_report\n",
    "print(classification_report(y_test, y_pred))"
   ]
  },
  {
   "cell_type": "code",
   "execution_count": 43,
   "metadata": {},
   "outputs": [],
   "source": [
    "# Above results sugget that class imbalance is why the results are like that (e.g. only works for P3)"
   ]
  },
  {
   "cell_type": "code",
   "execution_count": 44,
   "metadata": {},
   "outputs": [],
   "source": [
    "# Downsampling\n",
    "# Filter bug reports with priority P3 and sample 4000 rows from it\n",
    "df_sampleP3 = df[df['Priority'] == 'P3'].sample(n=4000)"
   ]
  },
  {
   "cell_type": "code",
   "execution_count": 45,
   "metadata": {},
   "outputs": [],
   "source": [
    "# Create a separate DataFrame containing all other bug reports\n",
    "df_sampleRest = df[df['Priority'] != 'P3']"
   ]
  },
  {
   "cell_type": "code",
   "execution_count": 46,
   "metadata": {},
   "outputs": [],
   "source": [
    "# Concatenate the two DataFrames to create the new balanced bug reports dataset\n",
    "df_balanced = pd.concat([df_sampleRest, df_sampleP3])"
   ]
  },
  {
   "cell_type": "code",
   "execution_count": 47,
   "metadata": {},
   "outputs": [
    {
     "data": {
      "text/plain": [
       "P3    4000\n",
       "P2    3038\n",
       "P4    1138\n",
       "P1    1117\n",
       "P5     252\n",
       "Name: Priority, dtype: int64"
      ]
     },
     "execution_count": 47,
     "metadata": {},
     "output_type": "execute_result"
    }
   ],
   "source": [
    "# Check the status of the class imbalance\n",
    "df_balanced['Priority'].value_counts()"
   ]
  },
  {
   "cell_type": "code",
   "execution_count": 48,
   "metadata": {},
   "outputs": [
    {
     "name": "stdout",
     "output_type": "stream",
     "text": [
      "Size of Training Data, Test Data 7636 1909\n"
     ]
    }
   ],
   "source": [
    "# Loading the balanced DataFrame\n",
    "df = df_balanced[['text', 'Priority']]\n",
    "df = df.dropna()\n",
    "\n",
    "# Step 1 - Data Preparation\n",
    "df['text'] = df['text'].apply(clean)\n",
    "\n",
    "# Step 2 - Train-Test Split\n",
    "X_train, X_test, y_train, y_test = train_test_split(df['text'], df['Priority'], test_size=0.2,\n",
    "                                                   random_state=42, stratify=df['Priority'])\n",
    "print('Size of Training Data, Test Data', X_train.shape[0], X_test.shape[0])"
   ]
  },
  {
   "cell_type": "code",
   "execution_count": 49,
   "metadata": {},
   "outputs": [
    {
     "data": {
      "text/plain": [
       "LinearSVC(random_state=0, tol=1e-05)"
      ]
     },
     "execution_count": 49,
     "metadata": {},
     "output_type": "execute_result"
    }
   ],
   "source": [
    "# Step 3 - Training the ML model\n",
    "tfidf = TfidfVectorizer(min_df=10, ngram_range=(1,2), stop_words='english')\n",
    "X_train_tf = tfidf.fit_transform(X_train)\n",
    "\n",
    "model1 = LinearSVC(random_state=0, tol=1e-5)\n",
    "model1.fit(X_train_tf, y_train)"
   ]
  },
  {
   "cell_type": "code",
   "execution_count": 51,
   "metadata": {},
   "outputs": [
    {
     "name": "stdout",
     "output_type": "stream",
     "text": [
      "Accuracy Score - 0.5081194342587743\n",
      "              precision    recall  f1-score   support\n",
      "\n",
      "          P1       0.48      0.32      0.39       223\n",
      "          P2       0.44      0.47      0.46       608\n",
      "          P3       0.57      0.66      0.61       800\n",
      "          P4       0.47      0.36      0.41       228\n",
      "          P5       0.20      0.02      0.04        50\n",
      "\n",
      "    accuracy                           0.51      1909\n",
      "   macro avg       0.43      0.37      0.38      1909\n",
      "weighted avg       0.50      0.51      0.50      1909\n",
      "\n"
     ]
    }
   ],
   "source": [
    "# Step 4 - Model evaluation\n",
    "X_test_tf = tfidf.transform(X_test)\n",
    "y_pred = model1.predict(X_test_tf)\n",
    "print('Accuracy Score -', accuracy_score(y_test, y_pred))\n",
    "print(classification_report(y_test,y_pred))"
   ]
  },
  {
   "cell_type": "code",
   "execution_count": 52,
   "metadata": {},
   "outputs": [
    {
     "name": "stdout",
     "output_type": "stream",
     "text": [
      "Accuracy Score -  0.29229963331587216\n"
     ]
    }
   ],
   "source": [
    "# Not very good for P5 and poor accuracy (~0.5)\n",
    "# How does the Dummy Classifier look?\n",
    "\n",
    "clf = DummyClassifier(strategy='stratified')\n",
    "clf.fit(X_train, y_train)\n",
    "y_pred_baseline = clf.predict(X_test)\n",
    "print('Accuracy Score - ', accuracy_score(y_test, y_pred_baseline))"
   ]
  },
  {
   "cell_type": "code",
   "execution_count": 55,
   "metadata": {},
   "outputs": [
    {
     "data": {
      "text/html": [
       "<div>\n",
       "<style scoped>\n",
       "    .dataframe tbody tr th:only-of-type {\n",
       "        vertical-align: middle;\n",
       "    }\n",
       "\n",
       "    .dataframe tbody tr th {\n",
       "        vertical-align: top;\n",
       "    }\n",
       "\n",
       "    .dataframe thead th {\n",
       "        text-align: right;\n",
       "    }\n",
       "</style>\n",
       "<table border=\"1\" class=\"dataframe\">\n",
       "  <thead>\n",
       "    <tr style=\"text-align: right;\">\n",
       "      <th></th>\n",
       "      <th>text</th>\n",
       "      <th>actual</th>\n",
       "      <th>predicted</th>\n",
       "    </tr>\n",
       "  </thead>\n",
       "  <tbody>\n",
       "    <tr>\n",
       "      <th>23328</th>\n",
       "      <td>False temporary problems reported when using different class name in CU I200412142000; ; open a Messages CU; change getString() to getString1() (just by inserting the character 1); save and build; open another CU that references getString(); try Ctrl-Click in that second CU (does not work); change getString1() back to getString() in the first CU; save and build; try Ctrl-Click in the seconde CU; does not work; which is unexpected</td>\n",
       "      <td>P2</td>\n",
       "      <td>P2</td>\n",
       "    </tr>\n",
       "    <tr>\n",
       "      <th>4410</th>\n",
       "      <td>clipboard based copying of java P w2k:; Ctrl-C; Ctrl-V worked at the beginning; after some time they stopped working.; ; linux-motif:; Ctrl-C works; Ctrl-V does not.; ; both:; Ctrl-Insert; Shift-Insert dont work.</td>\n",
       "      <td>P2</td>\n",
       "      <td>P2</td>\n",
       "    </tr>\n",
       "  </tbody>\n",
       "</table>\n",
       "</div>"
      ],
      "text/plain": [
       "                                                                                                                                                                                                                                                                                                                                                                                                                                                    text  \\\n",
       "23328  False temporary problems reported when using different class name in CU I200412142000; ; open a Messages CU; change getString() to getString1() (just by inserting the character 1); save and build; open another CU that references getString(); try Ctrl-Click in that second CU (does not work); change getString1() back to getString() in the first CU; save and build; try Ctrl-Click in the seconde CU; does not work; which is unexpected   \n",
       "4410                                                                                                                                                                                                                                clipboard based copying of java P w2k:; Ctrl-C; Ctrl-V worked at the beginning; after some time they stopped working.; ; linux-motif:; Ctrl-C works; Ctrl-V does not.; ; both:; Ctrl-Insert; Shift-Insert dont work.   \n",
       "\n",
       "      actual predicted  \n",
       "23328     P2        P2  \n",
       "4410      P2        P2  "
      ]
     },
     "metadata": {},
     "output_type": "display_data"
    }
   ],
   "source": [
    "# Examples where model predictions for these priorities are accurate\n",
    "frame = { 'text': X_test, 'actual': y_test, 'predicted': y_pred}\n",
    "result = pd.DataFrame(frame)\n",
    "\n",
    "\n",
    "with pd.option_context('display.max_colwidth', None):\n",
    "    display(result[((result['actual'] == 'P1') | (result['actual'] == 'P2')) & \n",
    "                   (result['actual'] == result['predicted'])].sample(2))"
   ]
  },
  {
   "cell_type": "code",
   "execution_count": 56,
   "metadata": {},
   "outputs": [
    {
     "data": {
      "text/html": [
       "<div>\n",
       "<style scoped>\n",
       "    .dataframe tbody tr th:only-of-type {\n",
       "        vertical-align: middle;\n",
       "    }\n",
       "\n",
       "    .dataframe tbody tr th {\n",
       "        vertical-align: top;\n",
       "    }\n",
       "\n",
       "    .dataframe thead th {\n",
       "        text-align: right;\n",
       "    }\n",
       "</style>\n",
       "<table border=\"1\" class=\"dataframe\">\n",
       "  <thead>\n",
       "    <tr style=\"text-align: right;\">\n",
       "      <th></th>\n",
       "      <th>text</th>\n",
       "      <th>actual</th>\n",
       "      <th>predicted</th>\n",
       "    </tr>\n",
       "  </thead>\n",
       "  <tbody>\n",
       "    <tr>\n",
       "      <th>18508</th>\n",
       "      <td>copy fails when using ctrl to select text When I select text in the java editor with ctrl the text is not available for; copy even though it is shown as selected.; ; Specific example: FooBarBaz; ; Go to the start of a line that has the word FooBarBaz at the start of the line.; Press down ctrl and shift. Press arrow right. Foo is selected; but copy is not; enabled in the main menu and ctrl-c will not copy.; ; If I instead just use shift and press arrow right three times Foo is selected; and copy works.; ; I have not been able to reproduce this outside the Java editor. The eclipse; build I have is 200403261517.</td>\n",
       "      <td>P2</td>\n",
       "      <td>P3</td>\n",
       "    </tr>\n",
       "    <tr>\n",
       "      <th>1823</th>\n",
       "      <td>Drop to frame does not re-select top stack frame Using the new hot swap support; when I drop to a stack frame; the stack frame ; list updates; but the new top stack frame is not re-selected to display source. ; I believe that firing a (debug) change event on the thread in which the drop ; was performed will update the UI.</td>\n",
       "      <td>P1</td>\n",
       "      <td>P2</td>\n",
       "    </tr>\n",
       "  </tbody>\n",
       "</table>\n",
       "</div>"
      ],
      "text/plain": [
       "                                                                                                                                                                                                                                                                                                                                                                                                                                                                                                                                                                                                                                           text  \\\n",
       "18508  copy fails when using ctrl to select text When I select text in the java editor with ctrl the text is not available for; copy even though it is shown as selected.; ; Specific example: FooBarBaz; ; Go to the start of a line that has the word FooBarBaz at the start of the line.; Press down ctrl and shift. Press arrow right. Foo is selected; but copy is not; enabled in the main menu and ctrl-c will not copy.; ; If I instead just use shift and press arrow right three times Foo is selected; and copy works.; ; I have not been able to reproduce this outside the Java editor. The eclipse; build I have is 200403261517.   \n",
       "1823                                                                                                                                                                                                                                                                                                        Drop to frame does not re-select top stack frame Using the new hot swap support; when I drop to a stack frame; the stack frame ; list updates; but the new top stack frame is not re-selected to display source. ; I believe that firing a (debug) change event on the thread in which the drop ; was performed will update the UI.   \n",
       "\n",
       "      actual predicted  \n",
       "18508     P2        P3  \n",
       "1823      P1        P2  "
      ]
     },
     "metadata": {},
     "output_type": "display_data"
    }
   ],
   "source": [
    "# Examples where model predictions for these priorities are NOT accurate\n",
    "frame = { 'text': X_test, 'actual': y_test, 'predicted': y_pred}\n",
    "result = pd.DataFrame(frame)\n",
    "\n",
    "\n",
    "with pd.option_context('display.max_colwidth', None):\n",
    "    display(result[((result['actual'] == 'P1') | (result['actual'] == 'P2')) & \n",
    "                   (result['actual'] != result['predicted'])].sample(2))"
   ]
  },
  {
   "cell_type": "markdown",
   "metadata": {},
   "source": [
    "## Cross-validation"
   ]
  },
  {
   "cell_type": "code",
   "execution_count": 58,
   "metadata": {},
   "outputs": [
    {
     "name": "stdout",
     "output_type": "stream",
     "text": [
      "Validation scores from each iteration of the cross validation  [0.47459403 0.45049764 0.43897328 0.41278156 0.36406496]\n",
      "Mean value across of validation scores  0.42818229439497124\n",
      "Standard deviation of validation scores  0.03772713882505244\n"
     ]
    }
   ],
   "source": [
    "# Vectorization\n",
    "tfidf = TfidfVectorizer(min_df = 10, ngram_range=(1,2), stop_words='english')\n",
    "df_tf = tfidf.fit_transform(df['text']).toarray()\n",
    "\n",
    "# Cross Validation with 5-folds\n",
    "from sklearn.model_selection import cross_val_score\n",
    "scores = cross_val_score(estimator=model1, X=df_tf, y=df['Priority'],cv=5)\n",
    "\n",
    "print(\"Validation scores from each iteration of the cross validation \", scores)\n",
    "print(\"Mean value across of validation scores \", scores.mean())\n",
    "print(\"Standard deviation of validation scores \", scores.std())"
   ]
  },
  {
   "cell_type": "code",
   "execution_count": 60,
   "metadata": {},
   "outputs": [],
   "source": [
    "# Adding in grid search via pipeline\n",
    "from sklearn.pipeline import Pipeline\n",
    "\n",
    "training_pipeline = Pipeline(steps=[('tfidf', TfidfVectorizer(stop_words=\"english\")),\n",
    "                                   ('model', LinearSVC(random_state=42, tol=1e-5))])"
   ]
  },
  {
   "cell_type": "code",
   "execution_count": 61,
   "metadata": {},
   "outputs": [],
   "source": [
    "grid_param = [{\n",
    "    'tfidf__min_df': [5,10],\n",
    "    'tfidf__ngram_range': [(1,3), (1,6)],\n",
    "    'model__penalty': ['l2'],\n",
    "    'model__loss': ['hinge'],\n",
    "    'model__max_iter': [10000]\n",
    "}, {\n",
    "    'tfidf__min_df': [5,10],\n",
    "    'tfidf__ngram_range': [(1,3), (1,6)],\n",
    "    'model__C': [1,10],\n",
    "    'model__tol': [1e-2,1e-3]\n",
    "}]"
   ]
  },
  {
   "cell_type": "code",
   "execution_count": 62,
   "metadata": {},
   "outputs": [
    {
     "data": {
      "text/plain": [
       "GridSearchCV(cv=5,\n",
       "             estimator=Pipeline(steps=[('tfidf',\n",
       "                                        TfidfVectorizer(stop_words='english')),\n",
       "                                       ('model',\n",
       "                                        LinearSVC(random_state=42,\n",
       "                                                  tol=1e-05))]),\n",
       "             param_grid=[{'model__loss': ['hinge'], 'model__max_iter': [10000],\n",
       "                          'model__penalty': ['l2'], 'tfidf__min_df': [5, 10],\n",
       "                          'tfidf__ngram_range': [(1, 3), (1, 6)]},\n",
       "                         {'model__C': [1, 10], 'model__tol': [0.01, 0.001],\n",
       "                          'tfidf__min_df': [5, 10],\n",
       "                          'tfidf__ngram_range': [(1, 3), (1, 6)]}])"
      ]
     },
     "execution_count": 62,
     "metadata": {},
     "output_type": "execute_result"
    }
   ],
   "source": [
    "from sklearn.model_selection import GridSearchCV\n",
    "gridSearchProcessor = GridSearchCV(estimator=training_pipeline, param_grid=grid_param, cv=5)\n",
    "gridSearchProcessor.fit(df['text'], df['Priority'])"
   ]
  },
  {
   "cell_type": "code",
   "execution_count": 63,
   "metadata": {},
   "outputs": [
    {
     "name": "stdout",
     "output_type": "stream",
     "text": [
      "Best alpha parameter identified by grid search  {'model__loss': 'hinge', 'model__max_iter': 10000, 'model__penalty': 'l2', 'tfidf__min_df': 5, 'tfidf__ngram_range': (1, 3)}\n"
     ]
    }
   ],
   "source": [
    "best_params = gridSearchProcessor.best_params_\n",
    "print(\"Best alpha parameter identified by grid search \", best_params)"
   ]
  },
  {
   "cell_type": "code",
   "execution_count": 64,
   "metadata": {},
   "outputs": [
    {
     "name": "stdout",
     "output_type": "stream",
     "text": [
      "Best result identified by grid search  0.45322158198009427\n"
     ]
    }
   ],
   "source": [
    "best_result = gridSearchProcessor.best_score_\n",
    "print(\"Best result identified by grid search \", best_result)"
   ]
  },
  {
   "cell_type": "code",
   "execution_count": 70,
   "metadata": {},
   "outputs": [
    {
     "data": {
      "text/html": [
       "<div>\n",
       "<style scoped>\n",
       "    .dataframe tbody tr th:only-of-type {\n",
       "        vertical-align: middle;\n",
       "    }\n",
       "\n",
       "    .dataframe tbody tr th {\n",
       "        vertical-align: top;\n",
       "    }\n",
       "\n",
       "    .dataframe thead th {\n",
       "        text-align: right;\n",
       "    }\n",
       "</style>\n",
       "<table border=\"1\" class=\"dataframe\">\n",
       "  <thead>\n",
       "    <tr style=\"text-align: right;\">\n",
       "      <th></th>\n",
       "      <th>rank_test_score</th>\n",
       "      <th>mean_test_score</th>\n",
       "      <th>params</th>\n",
       "    </tr>\n",
       "  </thead>\n",
       "  <tbody>\n",
       "    <tr>\n",
       "      <th>0</th>\n",
       "      <td>1</td>\n",
       "      <td>0.453222</td>\n",
       "      <td>{'model__loss': 'hinge', 'model__max_iter': 10000, 'model__penalty': 'l2', 'tfidf__min_df': 5, 'tfidf__ngram_range': (1, 3)}</td>\n",
       "    </tr>\n",
       "    <tr>\n",
       "      <th>2</th>\n",
       "      <td>2</td>\n",
       "      <td>0.452383</td>\n",
       "      <td>{'model__loss': 'hinge', 'model__max_iter': 10000, 'model__penalty': 'l2', 'tfidf__min_df': 10, 'tfidf__ngram_range': (1, 3)}</td>\n",
       "    </tr>\n",
       "    <tr>\n",
       "      <th>3</th>\n",
       "      <td>3</td>\n",
       "      <td>0.451964</td>\n",
       "      <td>{'model__loss': 'hinge', 'model__max_iter': 10000, 'model__penalty': 'l2', 'tfidf__min_df': 10, 'tfidf__ngram_range': (1, 6)}</td>\n",
       "    </tr>\n",
       "    <tr>\n",
       "      <th>1</th>\n",
       "      <td>4</td>\n",
       "      <td>0.450602</td>\n",
       "      <td>{'model__loss': 'hinge', 'model__max_iter': 10000, 'model__penalty': 'l2', 'tfidf__min_df': 5, 'tfidf__ngram_range': (1, 6)}</td>\n",
       "    </tr>\n",
       "    <tr>\n",
       "      <th>8</th>\n",
       "      <td>5</td>\n",
       "      <td>0.438240</td>\n",
       "      <td>{'model__C': 1, 'model__tol': 0.001, 'tfidf__min_df': 5, 'tfidf__ngram_range': (1, 3)}</td>\n",
       "    </tr>\n",
       "  </tbody>\n",
       "</table>\n",
       "</div>"
      ],
      "text/plain": [
       "   rank_test_score  mean_test_score  \\\n",
       "0                1         0.453222   \n",
       "2                2         0.452383   \n",
       "3                3         0.451964   \n",
       "1                4         0.450602   \n",
       "8                5         0.438240   \n",
       "\n",
       "                                                                                                                          params  \n",
       "0   {'model__loss': 'hinge', 'model__max_iter': 10000, 'model__penalty': 'l2', 'tfidf__min_df': 5, 'tfidf__ngram_range': (1, 3)}  \n",
       "2  {'model__loss': 'hinge', 'model__max_iter': 10000, 'model__penalty': 'l2', 'tfidf__min_df': 10, 'tfidf__ngram_range': (1, 3)}  \n",
       "3  {'model__loss': 'hinge', 'model__max_iter': 10000, 'model__penalty': 'l2', 'tfidf__min_df': 10, 'tfidf__ngram_range': (1, 6)}  \n",
       "1   {'model__loss': 'hinge', 'model__max_iter': 10000, 'model__penalty': 'l2', 'tfidf__min_df': 5, 'tfidf__ngram_range': (1, 6)}  \n",
       "8                                         {'model__C': 1, 'model__tol': 0.001, 'tfidf__min_df': 5, 'tfidf__ngram_range': (1, 3)}  "
      ]
     },
     "metadata": {},
     "output_type": "display_data"
    }
   ],
   "source": [
    "# To see all the results - top 5\n",
    "gridsearch_results = pd.DataFrame(gridSearchProcessor.cv_results_)\n",
    "\n",
    "with pd.option_context('display.max_colwidth', None):\n",
    "    display(gridsearch_results[['rank_test_score', 'mean_test_score', 'params']].sort_values(by=['rank_test_score'])[:5])"
   ]
  },
  {
   "cell_type": "code",
   "execution_count": 72,
   "metadata": {},
   "outputs": [
    {
     "name": "stdout",
     "output_type": "stream",
     "text": [
      "Accuracy Score -  0.8313253012048193\n"
     ]
    }
   ],
   "source": [
    "# Now to evaluate this model\n",
    "best_model = gridSearchProcessor.best_estimator_\n",
    "\n",
    "y_pred = best_model.predict(X_test)\n",
    "print('Accuracy Score - ', accuracy_score(y_test, y_pred))"
   ]
  },
  {
   "cell_type": "code",
   "execution_count": 73,
   "metadata": {},
   "outputs": [
    {
     "name": "stdout",
     "output_type": "stream",
     "text": [
      "              precision    recall  f1-score   support\n",
      "\n",
      "          P1       0.88      0.74      0.81       223\n",
      "          P2       0.84      0.80      0.82       608\n",
      "          P3       0.80      0.93      0.86       800\n",
      "          P4       0.90      0.73      0.81       228\n",
      "          P5       0.96      0.52      0.68        50\n",
      "\n",
      "    accuracy                           0.83      1909\n",
      "   macro avg       0.88      0.74      0.79      1909\n",
      "weighted avg       0.84      0.83      0.83      1909\n",
      "\n"
     ]
    }
   ],
   "source": [
    "print(classification_report(y_test, y_pred))"
   ]
  },
  {
   "cell_type": "code",
   "execution_count": 74,
   "metadata": {},
   "outputs": [
    {
     "name": "stdout",
     "output_type": "stream",
     "text": [
      "Accuracy Score -  0.41906757464641176\n"
     ]
    }
   ],
   "source": [
    "# Compare with the dummy classifier for this new data\n",
    "clf = DummyClassifier(strategy='most_frequent')\n",
    "clf.fit(X_train, y_train)\n",
    "y_pred_baseline = clf.predict(X_test)\n",
    "print('Accuracy Score - ', accuracy_score(y_test,y_pred_baseline))"
   ]
  },
  {
   "cell_type": "code",
   "execution_count": 75,
   "metadata": {},
   "outputs": [
    {
     "name": "stdout",
     "output_type": "stream",
     "text": [
      "              precision    recall  f1-score   support\n",
      "\n",
      "          P1       0.00      0.00      0.00       223\n",
      "          P2       0.00      0.00      0.00       608\n",
      "          P3       0.42      1.00      0.59       800\n",
      "          P4       0.00      0.00      0.00       228\n",
      "          P5       0.00      0.00      0.00        50\n",
      "\n",
      "    accuracy                           0.42      1909\n",
      "   macro avg       0.08      0.20      0.12      1909\n",
      "weighted avg       0.18      0.42      0.25      1909\n",
      "\n"
     ]
    },
    {
     "name": "stderr",
     "output_type": "stream",
     "text": [
      "/opt/anaconda3/lib/python3.8/site-packages/sklearn/metrics/_classification.py:1221: UndefinedMetricWarning: Precision and F-score are ill-defined and being set to 0.0 in labels with no predicted samples. Use `zero_division` parameter to control this behavior.\n",
      "  _warn_prf(average, modifier, msg_start, len(result))\n"
     ]
    }
   ],
   "source": [
    "print(classification_report(y_test,y_pred_baseline))"
   ]
  },
  {
   "cell_type": "code",
   "execution_count": 83,
   "metadata": {},
   "outputs": [
    {
     "data": {
      "text/html": [
       "<div>\n",
       "<style scoped>\n",
       "    .dataframe tbody tr th:only-of-type {\n",
       "        vertical-align: middle;\n",
       "    }\n",
       "\n",
       "    .dataframe tbody tr th {\n",
       "        vertical-align: top;\n",
       "    }\n",
       "\n",
       "    .dataframe thead th {\n",
       "        text-align: right;\n",
       "    }\n",
       "</style>\n",
       "<table border=\"1\" class=\"dataframe\">\n",
       "  <thead>\n",
       "    <tr style=\"text-align: right;\">\n",
       "      <th></th>\n",
       "      <th>text</th>\n",
       "      <th>actual</th>\n",
       "      <th>predicted</th>\n",
       "    </tr>\n",
       "  </thead>\n",
       "  <tbody>\n",
       "    <tr>\n",
       "      <th>19624</th>\n",
       "      <td>conditional breakpoint encountered runtime exception conditional breakpoint encountered runtime exception ; reason evaluation faile ; thread not suspended; ; ; this is the condition name.length()==0; name is a String property; that y ; have initialized and empty String; it should have other values but never null.</td>\n",
       "      <td>P3</td>\n",
       "      <td>P3</td>\n",
       "    </tr>\n",
       "    <tr>\n",
       "      <th>32123</th>\n",
       "      <td>Clean up parantheses are not recognizing comment // If you have a // comment inside an if statement and do a Source/Clean up... and select Always for Use parentheses around conditions you will get a slight code corruption:; ; See example; Before:; ------------; if (a 1 //; b 2); {; System.out.println(Hello World!);; }; ------------; ; After:; ------------; if ((a 1 //); (b 2)); {; System.out.println(Hello World!);; }; ------------; ; As you can see the parenthesis is located to the right of the comment mark instead of to the left of the comment mark.; ; An annoying bug; but not very bad.</td>\n",
       "      <td>P3</td>\n",
       "      <td>P3</td>\n",
       "    </tr>\n",
       "  </tbody>\n",
       "</table>\n",
       "</div>"
      ],
      "text/plain": [
       "                                                                                                                                                                                                                                                                                                                                                                                                                                                                                                                                                                                                                     text  \\\n",
       "19624                                                                                                                                                                                                                                                                                          conditional breakpoint encountered runtime exception conditional breakpoint encountered runtime exception ; reason evaluation faile ; thread not suspended; ; ; this is the condition name.length()==0; name is a String property; that y ; have initialized and empty String; it should have other values but never null.   \n",
       "32123  Clean up parantheses are not recognizing comment // If you have a // comment inside an if statement and do a Source/Clean up... and select Always for Use parentheses around conditions you will get a slight code corruption:; ; See example; Before:; ------------; if (a 1 //; b 2); {; System.out.println(Hello World!);; }; ------------; ; After:; ------------; if ((a 1 //); (b 2)); {; System.out.println(Hello World!);; }; ------------; ; As you can see the parenthesis is located to the right of the comment mark instead of to the left of the comment mark.; ; An annoying bug; but not very bad.   \n",
       "\n",
       "      actual predicted  \n",
       "19624     P3        P3  \n",
       "32123     P3        P3  "
      ]
     },
     "metadata": {},
     "output_type": "display_data"
    }
   ],
   "source": [
    "# Further deep dive into where the best model succeeds\n",
    "frame = { 'text': X_test, 'actual': y_test, 'predicted': y_pred }\n",
    "result = pd.DataFrame(frame)\n",
    "\n",
    "with pd.option_context('display.max_colwidth', None):\n",
    "    display(result[result['actual'] == result['predicted']].sample(2))"
   ]
  },
  {
   "cell_type": "code",
   "execution_count": 85,
   "metadata": {},
   "outputs": [
    {
     "data": {
      "text/html": [
       "<div>\n",
       "<style scoped>\n",
       "    .dataframe tbody tr th:only-of-type {\n",
       "        vertical-align: middle;\n",
       "    }\n",
       "\n",
       "    .dataframe tbody tr th {\n",
       "        vertical-align: top;\n",
       "    }\n",
       "\n",
       "    .dataframe thead th {\n",
       "        text-align: right;\n",
       "    }\n",
       "</style>\n",
       "<table border=\"1\" class=\"dataframe\">\n",
       "  <thead>\n",
       "    <tr style=\"text-align: right;\">\n",
       "      <th></th>\n",
       "      <th>text</th>\n",
       "      <th>actual</th>\n",
       "      <th>predicted</th>\n",
       "    </tr>\n",
       "  </thead>\n",
       "  <tbody>\n",
       "    <tr>\n",
       "      <th>17886</th>\n",
       "      <td>Class/Interface selection dialog: Class hierarchy tree view Class/Interface selection dialog:; (e.g. New Java Class dialog Interfaces Add and Superclass Browse); ; Currently; you enter the first letters of the class/interface and the list of ; matching classes/interfaces appears.; ; It should also be possible to select the class/interface from the ; package/class/interface hierarchy tree.; ; Sometimes you rather know where to find the class/interface than what its name ; starts with.</td>\n",
       "      <td>P4</td>\n",
       "      <td>P3</td>\n",
       "    </tr>\n",
       "    <tr>\n",
       "      <th>16446</th>\n",
       "      <td>Sorting/collating members by interface and super type It would be useful to be able to sort the methods in the Members view by the interfaces and super ; types they are declared in.; Each interface implemented by the type could be a node in the Members tree; with the interfaces ; methods under each node.; ; e.g. Members for Integer; Comparable; compareTo(Object); Number; byteValue(); doubleValue(); ...; decode() ; getInteger(); etc...</td>\n",
       "      <td>P5</td>\n",
       "      <td>P3</td>\n",
       "    </tr>\n",
       "  </tbody>\n",
       "</table>\n",
       "</div>"
      ],
      "text/plain": [
       "                                                                                                                                                                                                                                                                                                                                                                                                                                                                                                           text  \\\n",
       "17886  Class/Interface selection dialog: Class hierarchy tree view Class/Interface selection dialog:; (e.g. New Java Class dialog Interfaces Add and Superclass Browse); ; Currently; you enter the first letters of the class/interface and the list of ; matching classes/interfaces appears.; ; It should also be possible to select the class/interface from the ; package/class/interface hierarchy tree.; ; Sometimes you rather know where to find the class/interface than what its name ; starts with.   \n",
       "16446                                                    Sorting/collating members by interface and super type It would be useful to be able to sort the methods in the Members view by the interfaces and super ; types they are declared in.; Each interface implemented by the type could be a node in the Members tree; with the interfaces ; methods under each node.; ; e.g. Members for Integer; Comparable; compareTo(Object); Number; byteValue(); doubleValue(); ...; decode() ; getInteger(); etc...   \n",
       "\n",
       "      actual predicted  \n",
       "17886     P4        P3  \n",
       "16446     P5        P3  "
      ]
     },
     "metadata": {},
     "output_type": "display_data"
    }
   ],
   "source": [
    "# Now where does the model fall short?\n",
    "with pd.option_context('display.max_colwidth', None):\n",
    "    display(result[result['actual'] != result['predicted']].sample(2))"
   ]
  },
  {
   "cell_type": "markdown",
   "metadata": {},
   "source": [
    "## Additional exploration outside the book"
   ]
  },
  {
   "cell_type": "code",
   "execution_count": 94,
   "metadata": {},
   "outputs": [],
   "source": [
    "# Trying logistic regression\n",
    "from sklearn.linear_model import LogisticRegression\n",
    "training_pipeline = Pipeline(steps=[('tfidf', TfidfVectorizer(stop_words=\"english\")),\n",
    "                                   ('model', LogisticRegression(random_state=42))])\n",
    "\n"
   ]
  },
  {
   "cell_type": "code",
   "execution_count": 111,
   "metadata": {},
   "outputs": [],
   "source": [
    "grid_param = [{\n",
    "    'tfidf__min_df': [5,10],\n",
    "    'tfidf__ngram_range': [(1,3), (1,6)],\n",
    "    'model__penalty': ['l2'],\n",
    "    'model__C': [0.01, 0.1, 1.0],\n",
    "    'model__solver':['sag']\n",
    "}, {\n",
    "    'tfidf__min_df': [5,10],\n",
    "    'tfidf__ngram_range': [(1,3), (1,6)],\n",
    "    'model__C': [0.01, 0.1, 1.0],\n",
    "    'model__solver': ['sag']\n",
    "}]"
   ]
  },
  {
   "cell_type": "code",
   "execution_count": 112,
   "metadata": {
    "scrolled": true
   },
   "outputs": [
    {
     "data": {
      "text/plain": [
       "GridSearchCV(cv=5,\n",
       "             estimator=Pipeline(steps=[('tfidf',\n",
       "                                        TfidfVectorizer(stop_words='english')),\n",
       "                                       ('model',\n",
       "                                        LogisticRegression(random_state=42))]),\n",
       "             param_grid=[{'model__C': [0.01, 0.1, 1.0],\n",
       "                          'model__penalty': ['l2'], 'model__solver': ['sag'],\n",
       "                          'tfidf__min_df': [5, 10],\n",
       "                          'tfidf__ngram_range': [(1, 3), (1, 6)]},\n",
       "                         {'model__C': [0.01, 0.1, 1.0],\n",
       "                          'model__solver': ['sag'], 'tfidf__min_df': [5, 10],\n",
       "                          'tfidf__ngram_range': [(1, 3), (1, 6)]}])"
      ]
     },
     "execution_count": 112,
     "metadata": {},
     "output_type": "execute_result"
    }
   ],
   "source": [
    "gridSearchProcessor = GridSearchCV(estimator=training_pipeline, param_grid=grid_param, cv=5)\n",
    "gridSearchProcessor.fit(df['text'], df['Priority'])"
   ]
  },
  {
   "cell_type": "code",
   "execution_count": 113,
   "metadata": {},
   "outputs": [
    {
     "data": {
      "text/plain": [
       "Pipeline(steps=[('tfidf',\n",
       "                 TfidfVectorizer(min_df=5, ngram_range=(1, 3),\n",
       "                                 stop_words='english')),\n",
       "                ('model', LogisticRegression(random_state=42, solver='sag'))])"
      ]
     },
     "execution_count": 113,
     "metadata": {},
     "output_type": "execute_result"
    }
   ],
   "source": [
    "logreg = gridSearchProcessor.best_estimator_\n",
    "logreg"
   ]
  },
  {
   "cell_type": "code",
   "execution_count": 117,
   "metadata": {},
   "outputs": [
    {
     "name": "stdout",
     "output_type": "stream",
     "text": [
      "Best alpha parameter identified by grid search  {'model__C': 1.0, 'model__penalty': 'l2', 'model__solver': 'sag', 'tfidf__min_df': 5, 'tfidf__ngram_range': (1, 3)}\n"
     ]
    }
   ],
   "source": [
    "logreg_params = gridSearchProcessor.best_params_\n",
    "print(\"Best alpha parameter identified by grid search \", logreg_params)"
   ]
  },
  {
   "cell_type": "code",
   "execution_count": 119,
   "metadata": {},
   "outputs": [
    {
     "name": "stdout",
     "output_type": "stream",
     "text": [
      "Best result identified by grid search  0.4589837611314825\n"
     ]
    }
   ],
   "source": [
    "logreg_result = gridSearchProcessor.best_score_\n",
    "print(\"Best result identified by grid search \", logreg_result) # quite poor"
   ]
  },
  {
   "cell_type": "code",
   "execution_count": 149,
   "metadata": {},
   "outputs": [
    {
     "data": {
      "text/plain": [
       "GradientBoostingClassifier()"
      ]
     },
     "execution_count": 149,
     "metadata": {},
     "output_type": "execute_result"
    }
   ],
   "source": [
    "# Trying boosting\n",
    "from sklearn.ensemble import GradientBoostingClassifier\n",
    "\n",
    "tfidf = TfidfVectorizer(min_df=10, ngram_range=(1,2), stop_words='english')\n",
    "X_train_tf = tfidf.fit_transform(X_train)\n",
    "\n",
    "gbst = GradientBoostingClassifier()\n",
    "gbst.fit(X_train_tf, y_train)"
   ]
  },
  {
   "cell_type": "code",
   "execution_count": 154,
   "metadata": {},
   "outputs": [
    {
     "name": "stdout",
     "output_type": "stream",
     "text": [
      "Accuracy Score - 0.6661864850707176\n"
     ]
    }
   ],
   "source": [
    "y_train_gbst = gbst.predict(X_train_tf)\n",
    "print('Accuracy Score -', accuracy_score(y_train, y_train_gbst))\n"
   ]
  },
  {
   "cell_type": "code",
   "execution_count": 168,
   "metadata": {},
   "outputs": [
    {
     "name": "stdout",
     "output_type": "stream",
     "text": [
      "Accuracy Score - 0.7048192771084337\n"
     ]
    }
   ],
   "source": [
    "# Adding more estimators\n",
    "gbst = GradientBoostingClassifier(learning_rate=0.01, n_estimators=1000, max_depth=4)\n",
    "gbst.fit(X_train_tf, y_train)\n",
    "\n",
    "y_train_gbst = gbst.predict(X_train_tf)\n",
    "print('Accuracy Score -', accuracy_score(y_train, y_train_gbst))\n"
   ]
  },
  {
   "cell_type": "code",
   "execution_count": 166,
   "metadata": {},
   "outputs": [
    {
     "name": "stdout",
     "output_type": "stream",
     "text": [
      "Accuracy Score - 0.5247511786275537\n"
     ]
    }
   ],
   "source": [
    "# Additional experimentation - but didn't work\n",
    "gbst = GradientBoostingClassifier(learning_rate=0.01,max_depth=4)\n",
    "gbst.fit(X_train_tf, y_train)\n",
    "\n",
    "y_train_gbst = gbst.predict(X_train_tf)\n",
    "print('Accuracy Score -', accuracy_score(y_train, y_train_gbst))\n"
   ]
  },
  {
   "cell_type": "code",
   "execution_count": 169,
   "metadata": {},
   "outputs": [
    {
     "name": "stdout",
     "output_type": "stream",
     "text": [
      "Accuracy Score - 0.5060240963855421\n",
      "              precision    recall  f1-score   support\n",
      "\n",
      "          P1       0.57      0.17      0.27       223\n",
      "          P2       0.49      0.34      0.40       608\n",
      "          P3       0.51      0.82      0.63       800\n",
      "          P4       0.54      0.29      0.38       228\n",
      "          P5       0.00      0.00      0.00        50\n",
      "\n",
      "    accuracy                           0.51      1909\n",
      "   macro avg       0.42      0.32      0.34      1909\n",
      "weighted avg       0.50      0.51      0.47      1909\n",
      "\n"
     ]
    }
   ],
   "source": [
    "y_pred_gbst = gbst.predict(X_test_tf)\n",
    "print('Accuracy Score -', accuracy_score(y_test, y_pred_gbst))\n",
    "print(classification_report(y_test,y_pred_gbst))"
   ]
  },
  {
   "cell_type": "code",
   "execution_count": 173,
   "metadata": {},
   "outputs": [],
   "source": [
    "# Try the ensemble model with logistic regression and gradient boosting\n",
    "from sklearn.ensemble import VotingClassifier\n",
    "\n",
    "logreg = LogisticRegression(penalty='l2', solver='sag',C=1.0)\n",
    "gbst = GradientBoostingClassifier(learning_rate=0.01,max_depth=4)\n",
    "\n",
    "model = VotingClassifier(estimators=[('logreg', logreg), ('gbst', gbst)], voting='hard')"
   ]
  },
  {
   "cell_type": "code",
   "execution_count": 174,
   "metadata": {},
   "outputs": [
    {
     "data": {
      "text/plain": [
       "VotingClassifier(estimators=[('logreg', LogisticRegression(solver='sag')),\n",
       "                             ('gbst',\n",
       "                              GradientBoostingClassifier(learning_rate=0.01,\n",
       "                                                         max_depth=4))])"
      ]
     },
     "execution_count": 174,
     "metadata": {},
     "output_type": "execute_result"
    }
   ],
   "source": [
    "model.fit(X_train_tf, y_train)"
   ]
  },
  {
   "cell_type": "code",
   "execution_count": 176,
   "metadata": {},
   "outputs": [
    {
     "data": {
      "text/plain": [
       "0.6773179675222629"
      ]
     },
     "execution_count": 176,
     "metadata": {},
     "output_type": "execute_result"
    }
   ],
   "source": [
    "model.score(X_train_tf,y_train)"
   ]
  },
  {
   "cell_type": "code",
   "execution_count": 181,
   "metadata": {},
   "outputs": [
    {
     "data": {
      "text/plain": [
       "0.5138816134101624"
      ]
     },
     "execution_count": 181,
     "metadata": {},
     "output_type": "execute_result"
    }
   ],
   "source": [
    "model.score(X_test_tf,y_test)"
   ]
  },
  {
   "cell_type": "code",
   "execution_count": 182,
   "metadata": {},
   "outputs": [],
   "source": [
    "# SVM still performed best here"
   ]
  }
 ],
 "metadata": {
  "kernelspec": {
   "display_name": "Python 3",
   "language": "python",
   "name": "python3"
  },
  "language_info": {
   "codemirror_mode": {
    "name": "ipython",
    "version": 3
   },
   "file_extension": ".py",
   "mimetype": "text/x-python",
   "name": "python",
   "nbconvert_exporter": "python",
   "pygments_lexer": "ipython3",
   "version": "3.8.5"
  }
 },
 "nbformat": 4,
 "nbformat_minor": 4
}
